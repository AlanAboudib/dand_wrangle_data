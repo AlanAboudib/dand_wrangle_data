{
 "cells": [
  {
   "cell_type": "markdown",
   "metadata": {},
   "source": [
    "# Data Wrangling Project\n",
    "\n",
    "## External Report"
   ]
  },
  {
   "cell_type": "markdown",
   "metadata": {},
   "source": [
    "----------------"
   ]
  },
  {
   "cell_type": "markdown",
   "metadata": {},
   "source": [
    "***Important:*** all images in this report can be found in the project folder."
   ]
  },
  {
   "cell_type": "markdown",
   "metadata": {},
   "source": [
    "## Abstract"
   ]
  },
  {
   "cell_type": "markdown",
   "metadata": {},
   "source": [
    "In this report, I will briefly present the Data wrangling project and communicate the insights I have come up with after analyzing the cleaned version of the WeRateDogs data set."
   ]
  },
  {
   "cell_type": "markdown",
   "metadata": {},
   "source": [
    "---------------------"
   ]
  },
  {
   "cell_type": "markdown",
   "metadata": {},
   "source": [
    "## Project presentation\n",
    "\n"
   ]
  },
  {
   "cell_type": "markdown",
   "metadata": {},
   "source": [
    "This project was designed to practice data wrangling which is one of the most important steps in the data analysis pipeline. According to the exercise, I had to handle at least 8 quality issues and 2 tidiness issues on the WeRateDogs dataset. Here is the main steps we had to respect in doing this project:\n",
    "\n",
    "1. Gathering data.\n",
    "\n",
    "2. Assessing the dataset.\n",
    "\n",
    "3. Cleaning the dataset.\n",
    "\n",
    "4. Providing some analysis and insights."
   ]
  },
  {
   "cell_type": "markdown",
   "metadata": {},
   "source": [
    "All of the cleaning steps were performed according to the instructions provided in the course. \n",
    "\n",
    "However, the main goal of this report is to present the main findings I got after the data analysis step."
   ]
  },
  {
   "cell_type": "markdown",
   "metadata": {},
   "source": [
    "## Findings"
   ]
  },
  {
   "cell_type": "markdown",
   "metadata": {},
   "source": [
    "I have asked and answered three main questions. Here I present each question along with its answer and an associated visualization in case there is one:"
   ]
  },
  {
   "cell_type": "markdown",
   "metadata": {},
   "source": [
    "### Q1: what is the distribution of rating numerators for those with a denominator of 10?"
   ]
  },
  {
   "cell_type": "markdown",
   "metadata": {},
   "source": [
    "In answering this question, I notices is that most dogs are rated more than the denominator of 10. This is characteristic of the WeRateDogs dataset. I also noticed that although rating is exagerated in this way, highly exagerated ratings (> 14/10) are quite rare. Low rating (< 10/10) are also rare except for a peak at 5/10 rating."
   ]
  },
  {
   "cell_type": "markdown",
   "metadata": {},
   "source": [
    "![rating distribution](./rating_dist.png)"
   ]
  },
  {
   "cell_type": "markdown",
   "metadata": {},
   "source": [
    "### Q2: what are the highest rated dog stages?"
   ]
  },
  {
   "cell_type": "markdown",
   "metadata": {},
   "source": [
    "To answer this question I created a box plot in order to visualize  the average rating numerator per dog stage:"
   ]
  },
  {
   "cell_type": "markdown",
   "metadata": {},
   "source": [
    "![dog stage ratings](./dog_stage_ratings.png)"
   ]
  },
  {
   "cell_type": "markdown",
   "metadata": {},
   "source": [
    "At a first glance, We might say that Puppos (teenager dogs) are the most highly rated dogs, while Puppers are the  lowest rated in average. However, before stating such a conclusion, I wanted to check whether each dog stage is equally represented in the dataset. I found that there are 257 puppers, 97 doggos, 30 puppos and 10 floofers. So, it seems that dog stages are highly imbalanced. So in order to make a decision of which dog stage is most rated I would suggest the need for hypothesis testing."
   ]
  },
  {
   "cell_type": "markdown",
   "metadata": {},
   "source": [
    "### Q3: what are the five dog types that are more frequently recongnized in the image prediction task?"
   ]
  },
  {
   "cell_type": "markdown",
   "metadata": {},
   "source": [
    "I answered this question using many difference confidence thresholds for the p1 prediction in the `image_pred` dataframe. I noticed that the Golder Retrivers, Pembrokes, Labrador Retrievers, Pugs and Chihuahuas are always on the podium. Popular dogs huh?!"
   ]
  },
  {
   "cell_type": "markdown",
   "metadata": {},
   "source": [
    "For further details about these findings, please refer to the technical report named `wrangle_act` jupyter notebook."
   ]
  }
 ],
 "metadata": {
  "kernelspec": {
   "display_name": "Python 3",
   "language": "python",
   "name": "python3"
  },
  "language_info": {
   "codemirror_mode": {
    "name": "ipython",
    "version": 3
   },
   "file_extension": ".py",
   "mimetype": "text/x-python",
   "name": "python",
   "nbconvert_exporter": "python",
   "pygments_lexer": "ipython3",
   "version": "3.5.3"
  }
 },
 "nbformat": 4,
 "nbformat_minor": 2
}
