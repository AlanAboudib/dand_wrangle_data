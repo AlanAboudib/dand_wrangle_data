{
 "cells": [
  {
   "cell_type": "code",
   "execution_count": 1,
   "metadata": {
    "collapsed": true
   },
   "outputs": [],
   "source": [
    "# some imports\n",
    "import tweepy\n",
    "import pandas as pd\n",
    "from pprint import pprint\n",
    "import json\n",
    "import os"
   ]
  },
  {
   "cell_type": "code",
   "execution_count": 2,
   "metadata": {
    "collapsed": true
   },
   "outputs": [],
   "source": [
    "# create the Tweepy API object\n",
    "consumer_key = 'CtDsSRpPL7A0hZ3inkaeXeO8rb'\n",
    "consumer_secret = 'kZtsz1yrgrKV1w1z06L5FkMqMcSvoHy24fwbV3TSVpmEDJgnGIS'\n",
    "access_token = '256t993372-7nbEiDKrvKHqdIduNix7lN5DvgBjOWeGsde4agAq'\n",
    "access_secret = '8VICtRSK3SCMYUOBF0BCtE03BXxbK7Xlwx4j4uV8cH6Gzi'\n",
    "\n",
    "auth = tweepy.OAuthHandler(consumer_key, consumer_secret)\n",
    "auth.set_access_token(access_token, access_secret)\n",
    "\n",
    "api = tweepy.API(auth, wait_on_rate_limit=True, wait_on_rate_limit_notify=True)"
   ]
  },
  {
   "cell_type": "code",
   "execution_count": 3,
   "metadata": {
    "collapsed": false,
    "scrolled": true
   },
   "outputs": [
    {
     "data": {
      "text/html": [
       "<div>\n",
       "<table border=\"1\" class=\"dataframe\">\n",
       "  <thead>\n",
       "    <tr style=\"text-align: right;\">\n",
       "      <th></th>\n",
       "      <th>tweet_id</th>\n",
       "      <th>in_reply_to_status_id</th>\n",
       "      <th>in_reply_to_user_id</th>\n",
       "      <th>timestamp</th>\n",
       "      <th>source</th>\n",
       "      <th>text</th>\n",
       "      <th>retweeted_status_id</th>\n",
       "      <th>retweeted_status_user_id</th>\n",
       "      <th>retweeted_status_timestamp</th>\n",
       "      <th>expanded_urls</th>\n",
       "      <th>rating_numerator</th>\n",
       "      <th>rating_denominator</th>\n",
       "      <th>name</th>\n",
       "      <th>doggo</th>\n",
       "      <th>floofer</th>\n",
       "      <th>pupper</th>\n",
       "      <th>puppo</th>\n",
       "    </tr>\n",
       "  </thead>\n",
       "  <tbody>\n",
       "    <tr>\n",
       "      <th>0</th>\n",
       "      <td>892420643555336193</td>\n",
       "      <td>NaN</td>\n",
       "      <td>NaN</td>\n",
       "      <td>2017-08-01 16:23:56 +0000</td>\n",
       "      <td>&lt;a href=\"http://twitter.com/download/iphone\" r...</td>\n",
       "      <td>This is Phineas. He's a mystical boy. Only eve...</td>\n",
       "      <td>NaN</td>\n",
       "      <td>NaN</td>\n",
       "      <td>NaN</td>\n",
       "      <td>https://twitter.com/dog_rates/status/892420643...</td>\n",
       "      <td>13</td>\n",
       "      <td>10</td>\n",
       "      <td>Phineas</td>\n",
       "      <td>None</td>\n",
       "      <td>None</td>\n",
       "      <td>None</td>\n",
       "      <td>None</td>\n",
       "    </tr>\n",
       "    <tr>\n",
       "      <th>1</th>\n",
       "      <td>892177421306343426</td>\n",
       "      <td>NaN</td>\n",
       "      <td>NaN</td>\n",
       "      <td>2017-08-01 00:17:27 +0000</td>\n",
       "      <td>&lt;a href=\"http://twitter.com/download/iphone\" r...</td>\n",
       "      <td>This is Tilly. She's just checking pup on you....</td>\n",
       "      <td>NaN</td>\n",
       "      <td>NaN</td>\n",
       "      <td>NaN</td>\n",
       "      <td>https://twitter.com/dog_rates/status/892177421...</td>\n",
       "      <td>13</td>\n",
       "      <td>10</td>\n",
       "      <td>Tilly</td>\n",
       "      <td>None</td>\n",
       "      <td>None</td>\n",
       "      <td>None</td>\n",
       "      <td>None</td>\n",
       "    </tr>\n",
       "    <tr>\n",
       "      <th>2</th>\n",
       "      <td>891815181378084864</td>\n",
       "      <td>NaN</td>\n",
       "      <td>NaN</td>\n",
       "      <td>2017-07-31 00:18:03 +0000</td>\n",
       "      <td>&lt;a href=\"http://twitter.com/download/iphone\" r...</td>\n",
       "      <td>This is Archie. He is a rare Norwegian Pouncin...</td>\n",
       "      <td>NaN</td>\n",
       "      <td>NaN</td>\n",
       "      <td>NaN</td>\n",
       "      <td>https://twitter.com/dog_rates/status/891815181...</td>\n",
       "      <td>12</td>\n",
       "      <td>10</td>\n",
       "      <td>Archie</td>\n",
       "      <td>None</td>\n",
       "      <td>None</td>\n",
       "      <td>None</td>\n",
       "      <td>None</td>\n",
       "    </tr>\n",
       "    <tr>\n",
       "      <th>3</th>\n",
       "      <td>891689557279858688</td>\n",
       "      <td>NaN</td>\n",
       "      <td>NaN</td>\n",
       "      <td>2017-07-30 15:58:51 +0000</td>\n",
       "      <td>&lt;a href=\"http://twitter.com/download/iphone\" r...</td>\n",
       "      <td>This is Darla. She commenced a snooze mid meal...</td>\n",
       "      <td>NaN</td>\n",
       "      <td>NaN</td>\n",
       "      <td>NaN</td>\n",
       "      <td>https://twitter.com/dog_rates/status/891689557...</td>\n",
       "      <td>13</td>\n",
       "      <td>10</td>\n",
       "      <td>Darla</td>\n",
       "      <td>None</td>\n",
       "      <td>None</td>\n",
       "      <td>None</td>\n",
       "      <td>None</td>\n",
       "    </tr>\n",
       "    <tr>\n",
       "      <th>4</th>\n",
       "      <td>891327558926688256</td>\n",
       "      <td>NaN</td>\n",
       "      <td>NaN</td>\n",
       "      <td>2017-07-29 16:00:24 +0000</td>\n",
       "      <td>&lt;a href=\"http://twitter.com/download/iphone\" r...</td>\n",
       "      <td>This is Franklin. He would like you to stop ca...</td>\n",
       "      <td>NaN</td>\n",
       "      <td>NaN</td>\n",
       "      <td>NaN</td>\n",
       "      <td>https://twitter.com/dog_rates/status/891327558...</td>\n",
       "      <td>12</td>\n",
       "      <td>10</td>\n",
       "      <td>Franklin</td>\n",
       "      <td>None</td>\n",
       "      <td>None</td>\n",
       "      <td>None</td>\n",
       "      <td>None</td>\n",
       "    </tr>\n",
       "  </tbody>\n",
       "</table>\n",
       "</div>"
      ],
      "text/plain": [
       "             tweet_id  in_reply_to_status_id  in_reply_to_user_id  \\\n",
       "0  892420643555336193                    NaN                  NaN   \n",
       "1  892177421306343426                    NaN                  NaN   \n",
       "2  891815181378084864                    NaN                  NaN   \n",
       "3  891689557279858688                    NaN                  NaN   \n",
       "4  891327558926688256                    NaN                  NaN   \n",
       "\n",
       "                   timestamp  \\\n",
       "0  2017-08-01 16:23:56 +0000   \n",
       "1  2017-08-01 00:17:27 +0000   \n",
       "2  2017-07-31 00:18:03 +0000   \n",
       "3  2017-07-30 15:58:51 +0000   \n",
       "4  2017-07-29 16:00:24 +0000   \n",
       "\n",
       "                                              source  \\\n",
       "0  <a href=\"http://twitter.com/download/iphone\" r...   \n",
       "1  <a href=\"http://twitter.com/download/iphone\" r...   \n",
       "2  <a href=\"http://twitter.com/download/iphone\" r...   \n",
       "3  <a href=\"http://twitter.com/download/iphone\" r...   \n",
       "4  <a href=\"http://twitter.com/download/iphone\" r...   \n",
       "\n",
       "                                                text  retweeted_status_id  \\\n",
       "0  This is Phineas. He's a mystical boy. Only eve...                  NaN   \n",
       "1  This is Tilly. She's just checking pup on you....                  NaN   \n",
       "2  This is Archie. He is a rare Norwegian Pouncin...                  NaN   \n",
       "3  This is Darla. She commenced a snooze mid meal...                  NaN   \n",
       "4  This is Franklin. He would like you to stop ca...                  NaN   \n",
       "\n",
       "   retweeted_status_user_id retweeted_status_timestamp  \\\n",
       "0                       NaN                        NaN   \n",
       "1                       NaN                        NaN   \n",
       "2                       NaN                        NaN   \n",
       "3                       NaN                        NaN   \n",
       "4                       NaN                        NaN   \n",
       "\n",
       "                                       expanded_urls  rating_numerator  \\\n",
       "0  https://twitter.com/dog_rates/status/892420643...                13   \n",
       "1  https://twitter.com/dog_rates/status/892177421...                13   \n",
       "2  https://twitter.com/dog_rates/status/891815181...                12   \n",
       "3  https://twitter.com/dog_rates/status/891689557...                13   \n",
       "4  https://twitter.com/dog_rates/status/891327558...                12   \n",
       "\n",
       "   rating_denominator      name doggo floofer pupper puppo  \n",
       "0                  10   Phineas  None    None   None  None  \n",
       "1                  10     Tilly  None    None   None  None  \n",
       "2                  10    Archie  None    None   None  None  \n",
       "3                  10     Darla  None    None   None  None  \n",
       "4                  10  Franklin  None    None   None  None  "
      ]
     },
     "execution_count": 3,
     "metadata": {},
     "output_type": "execute_result"
    }
   ],
   "source": [
    "# create a pandas dataframe for tweets\n",
    "archv_df = pd.read_csv('./twitter-archive-enhanced.csv')\n",
    "archv_df.head()"
   ]
  },
  {
   "cell_type": "markdown",
   "metadata": {},
   "source": [
    "Let's take one tweet id to test the API"
   ]
  },
  {
   "cell_type": "code",
   "execution_count": 4,
   "metadata": {
    "collapsed": false
   },
   "outputs": [],
   "source": [
    "tweet_id = '892420643555336193'\n",
    "\n",
    "try:\n",
    "    tweet = api.get_status(tweet_id, tweet_mode='extended')\n",
    "    \n",
    "except tweepy.TweepError as te:\n",
    "    \n",
    "    print('Failed to get tweet ID %s: %s', tweet_id, te.message)\n"
   ]
  },
  {
   "cell_type": "markdown",
   "metadata": {},
   "source": [
    "Let's print out the attributed of the status object 'tweet'"
   ]
  },
  {
   "cell_type": "code",
   "execution_count": 5,
   "metadata": {
    "collapsed": false
   },
   "outputs": [
    {
     "name": "stdout",
     "output_type": "stream",
     "text": [
      "['__class__', '__delattr__', '__dict__', '__dir__', '__doc__', '__eq__', '__format__', '__ge__', '__getattribute__', '__getstate__', '__gt__', '__hash__', '__init__', '__le__', '__lt__', '__module__', '__ne__', '__new__', '__reduce__', '__reduce_ex__', '__repr__', '__setattr__', '__sizeof__', '__str__', '__subclasshook__', '__weakref__', '_api', '_json', 'author', 'contributors', 'coordinates', 'created_at', 'destroy', 'display_text_range', 'entities', 'extended_entities', 'favorite', 'favorite_count', 'favorited', 'full_text', 'geo', 'id', 'id_str', 'in_reply_to_screen_name', 'in_reply_to_status_id', 'in_reply_to_status_id_str', 'in_reply_to_user_id', 'in_reply_to_user_id_str', 'is_quote_status', 'lang', 'parse', 'parse_list', 'place', 'possibly_sensitive', 'possibly_sensitive_appealable', 'retweet', 'retweet_count', 'retweeted', 'retweets', 'source', 'source_url', 'truncated', 'user']\n"
     ]
    }
   ],
   "source": [
    "print(dir(tweet))"
   ]
  },
  {
   "cell_type": "markdown",
   "metadata": {},
   "source": [
    "Notice that this object has a '_json' attribute that can be used to extract the json object from it"
   ]
  },
  {
   "cell_type": "code",
   "execution_count": 6,
   "metadata": {
    "collapsed": false,
    "scrolled": true
   },
   "outputs": [
    {
     "name": "stdout",
     "output_type": "stream",
     "text": [
      "{'possibly_sensitive': False, 'in_reply_to_status_id_str': None, 'in_reply_to_user_id': None, 'in_reply_to_screen_name': None, 'source': '<a href=\"http://twitter.com/download/iphone\" rel=\"nofollow\">Twitter for iPhone</a>', 'favorite_count': 38404, 'retweet_count': 8435, 'is_quote_status': False, 'extended_entities': {'media': [{'id_str': '892420639486877696', 'sizes': {'small': {'h': 528, 'resize': 'fit', 'w': 540}, 'thumb': {'h': 150, 'resize': 'crop', 'w': 150}, 'large': {'h': 528, 'resize': 'fit', 'w': 540}, 'medium': {'h': 528, 'resize': 'fit', 'w': 540}}, 'url': 'https://t.co/MgUWQ76dJU', 'indices': [86, 109], 'expanded_url': 'https://twitter.com/dog_rates/status/892420643555336193/photo/1', 'media_url_https': 'https://pbs.twimg.com/media/DGKD1-bXoAAIAUK.jpg', 'id': 892420639486877696, 'display_url': 'pic.twitter.com/MgUWQ76dJU', 'media_url': 'http://pbs.twimg.com/media/DGKD1-bXoAAIAUK.jpg', 'type': 'photo'}]}, 'favorited': False, 'contributors': None, 'in_reply_to_user_id_str': None, 'id': 892420643555336193, 'full_text': \"This is Phineas. He's a mystical boy. Only ever appears in the hole of a donut. 13/10 https://t.co/MgUWQ76dJU\", 'coordinates': None, 'entities': {'symbols': [], 'media': [{'id_str': '892420639486877696', 'sizes': {'small': {'h': 528, 'resize': 'fit', 'w': 540}, 'thumb': {'h': 150, 'resize': 'crop', 'w': 150}, 'large': {'h': 528, 'resize': 'fit', 'w': 540}, 'medium': {'h': 528, 'resize': 'fit', 'w': 540}}, 'url': 'https://t.co/MgUWQ76dJU', 'indices': [86, 109], 'expanded_url': 'https://twitter.com/dog_rates/status/892420643555336193/photo/1', 'media_url_https': 'https://pbs.twimg.com/media/DGKD1-bXoAAIAUK.jpg', 'id': 892420639486877696, 'display_url': 'pic.twitter.com/MgUWQ76dJU', 'media_url': 'http://pbs.twimg.com/media/DGKD1-bXoAAIAUK.jpg', 'type': 'photo'}], 'urls': [], 'user_mentions': [], 'hashtags': []}, 'retweeted': False, 'lang': 'en', 'id_str': '892420643555336193', 'place': None, 'truncated': False, 'possibly_sensitive_appealable': False, 'geo': None, 'in_reply_to_status_id': None, 'created_at': 'Tue Aug 01 16:23:56 +0000 2017', 'user': {'location': '⇩ merch ⇩         DM YOUR DOGS', 'follow_request_sent': False, 'profile_sidebar_fill_color': '000000', 'profile_background_image_url': 'http://abs.twimg.com/images/themes/theme1/bg.png', 'time_zone': None, 'verified': True, 'notifications': False, 'profile_link_color': 'F5ABB5', 'following': False, 'profile_banner_url': 'https://pbs.twimg.com/profile_banners/4196983835/1525830435', 'favourites_count': 138170, 'statuses_count': 8879, 'contributors_enabled': False, 'utc_offset': None, 'name': 'WeRateDogs™', 'description': 'Your Only Source For Professional Dog Ratings ⠀ ⠀IG, FB, Snapchat ⇨ WeRateDogs ⠀⠀⠀⠀⠀⠀⠀⠀⠀⠀⠀⠀ Business: dogratingtwitter@gmail.com', 'translator_type': 'none', 'default_profile': False, 'profile_background_color': '000000', 'profile_sidebar_border_color': '000000', 'profile_image_url': 'http://pbs.twimg.com/profile_images/948761950363664385/Fpr2Oz35_normal.jpg', 'protected': False, 'has_extended_profile': False, 'screen_name': 'dog_rates', 'is_translation_enabled': False, 'default_profile_image': False, 'profile_background_image_url_https': 'https://abs.twimg.com/images/themes/theme1/bg.png', 'followers_count': 7263843, 'id': 4196983835, 'lang': 'en', 'profile_text_color': '000000', 'entities': {'url': {'urls': [{'expanded_url': 'http://weratedogs.com', 'url': 'https://t.co/N7sNNHAEXS', 'display_url': 'weratedogs.com', 'indices': [0, 23]}]}, 'description': {'urls': []}}, 'profile_image_url_https': 'https://pbs.twimg.com/profile_images/948761950363664385/Fpr2Oz35_normal.jpg', 'is_translator': False, 'id_str': '4196983835', 'geo_enabled': True, 'profile_use_background_image': False, 'friends_count': 10, 'url': 'https://t.co/N7sNNHAEXS', 'created_at': 'Sun Nov 15 21:41:29 +0000 2015', 'listed_count': 5119, 'profile_background_tile': False}, 'display_text_range': [0, 85]}\n"
     ]
    }
   ],
   "source": [
    "print(tweet._json)"
   ]
  },
  {
   "cell_type": "markdown",
   "metadata": {},
   "source": [
    "Also notice that the attributes of interest for me are called 'retweet_count' and 'favorite_count', let's print them out:"
   ]
  },
  {
   "cell_type": "code",
   "execution_count": 7,
   "metadata": {
    "collapsed": false
   },
   "outputs": [
    {
     "name": "stdout",
     "output_type": "stream",
     "text": [
      "8435\n"
     ]
    }
   ],
   "source": [
    "print(tweet._json['retweet_count'])"
   ]
  },
  {
   "cell_type": "code",
   "execution_count": 8,
   "metadata": {
    "collapsed": false,
    "scrolled": true
   },
   "outputs": [
    {
     "name": "stdout",
     "output_type": "stream",
     "text": [
      "38404\n"
     ]
    }
   ],
   "source": [
    "print(tweet._json['favorite_count'])"
   ]
  },
  {
   "cell_type": "markdown",
   "metadata": {},
   "source": [
    "### Now let's start the real work. "
   ]
  },
  {
   "cell_type": "markdown",
   "metadata": {},
   "source": [
    "I will start by create a list of unique tweet IDs from the tweet archive"
   ]
  },
  {
   "cell_type": "code",
   "execution_count": 9,
   "metadata": {
    "collapsed": false
   },
   "outputs": [
    {
     "name": "stdout",
     "output_type": "stream",
     "text": [
      "[892420643555336193 892177421306343426 891815181378084864 ...,\n",
      " 666033412701032449 666029285002620928 666020888022790149]\n"
     ]
    }
   ],
   "source": [
    "id_list = archv_df.tweet_id.unique()\n",
    "print(id_list)"
   ]
  },
  {
   "cell_type": "markdown",
   "metadata": {},
   "source": [
    "Great, now I will chose the file name in which json strings should be stored"
   ]
  },
  {
   "cell_type": "code",
   "execution_count": 10,
   "metadata": {
    "collapsed": true
   },
   "outputs": [],
   "source": [
    "tweet_file = 'tweet_json.txt'"
   ]
  },
  {
   "cell_type": "markdown",
   "metadata": {},
   "source": [
    "now iterate through the list of tweet ids, request the associated tweet data by using the API and save the received JSON object to a file"
   ]
  },
  {
   "cell_type": "code",
   "execution_count": 11,
   "metadata": {
    "collapsed": false
   },
   "outputs": [
    {
     "name": "stdout",
     "output_type": "stream",
     "text": [
      "['get_image_prediction.py~', 'twitter-archive-enhanced.csv', 'gather_data.ipynb', 'image_predictions.tsv', '.ipynb_checkpoints', '#tweet_json.txt#', 'get_image_prediction.py', '.#tweet_json.txt']\n",
      "Failed to get tweet ID %s 888202515573088257\n",
      "Failed to get tweet ID %s 873697596434513921\n",
      "100 tweets are obtained so far\n",
      "Failed to get tweet ID %s 872668790621863937\n",
      "Failed to get tweet ID %s 869988702071779329\n",
      "Failed to get tweet ID %s 866816280283807744\n",
      "Failed to get tweet ID %s 861769973181624320\n",
      "200 tweets are obtained so far\n",
      "Failed to get tweet ID %s 845459076796616705\n",
      "Failed to get tweet ID %s 842892208864923648\n",
      "Failed to get tweet ID %s 837012587749474308\n",
      "300 tweets are obtained so far\n",
      "Failed to get tweet ID %s 827228250799742977\n",
      "400 tweets are obtained so far\n",
      "500 tweets are obtained so far\n",
      "Failed to get tweet ID %s 802247111496568832\n",
      "600 tweets are obtained so far\n",
      "700 tweets are obtained so far\n",
      "Failed to get tweet ID %s 775096608509886464\n"
     ]
    },
    {
     "name": "stderr",
     "output_type": "stream",
     "text": [
      "Rate limit reached. Sleeping for: 169\n"
     ]
    },
    {
     "name": "stdout",
     "output_type": "stream",
     "text": [
      "800 tweets are obtained so far\n",
      "Failed to get tweet ID %s 771004394259247104\n",
      "Failed to get tweet ID %s 770743923962707968\n",
      "900 tweets are obtained so far\n",
      "Failed to get tweet ID %s 754011816964026368\n",
      "1000 tweets are obtained so far\n",
      "1100 tweets are obtained so far\n",
      "1200 tweets are obtained so far\n",
      "1300 tweets are obtained so far\n",
      "1400 tweets are obtained so far\n",
      "1500 tweets are obtained so far\n",
      "1600 tweets are obtained so far\n"
     ]
    },
    {
     "name": "stderr",
     "output_type": "stream",
     "text": [
      "Rate limit reached. Sleeping for: 524\n"
     ]
    },
    {
     "name": "stdout",
     "output_type": "stream",
     "text": [
      "1700 tweets are obtained so far\n",
      "1800 tweets are obtained so far\n",
      "1900 tweets are obtained so far\n",
      "2000 tweets are obtained so far\n",
      "2100 tweets are obtained so far\n",
      "2200 tweets are obtained so far\n",
      "2300 tweets are obtained so far\n"
     ]
    }
   ],
   "source": [
    "# create a tweet counter \n",
    "counter = 0\n",
    "\n",
    "# delete the file if it already exists\n",
    "os.remove(tweet_file)\n",
    "\n",
    "print(os.listdir('./'))\n",
    "\n",
    "with open(tweet_file, 'a') as f:\n",
    "    \n",
    "    \n",
    "    for tweet_id in id_list:\n",
    "\n",
    "        try:\n",
    "            tweet = api.get_status(tweet_id, tweet_mode='extended')\n",
    "    \n",
    "        except tweepy.TweepError as te:\n",
    "    \n",
    "            print('Failed to get tweet ID %s', tweet_id)\n",
    "    \n",
    "\n",
    "    \n",
    "        # dump the json object as a string in a file\n",
    "        json.dump(tweet._json, f)\n",
    "        f.write('\\n')\n",
    "        \n",
    "        counter += 1\n",
    "        \n",
    "        if counter % 100 == 0:\n",
    "            print('{} tweets are obtained so far'.format(counter))"
   ]
  },
  {
   "cell_type": "markdown",
   "metadata": {},
   "source": [
    "### practice create a  dataframe from 'tweet_json.txt'"
   ]
  },
  {
   "cell_type": "code",
   "execution_count": 3,
   "metadata": {
    "collapsed": false
   },
   "outputs": [],
   "source": [
    "tweet_file = 'tweet_json.txt'\n",
    "\n",
    "with open(tweet_file, 'r') as f:\n",
    "    \n",
    "    # read all rows\n",
    "    rows = f.readlines()\n",
    "    \n",
    "    for i, row in enumerate(rows):\n",
    "        row_dict = json.loads(row)\n",
    "        \n",
    "        # create an empty dataframe with column names\n",
    "        if i == 0:\n",
    "            tweets_detail_df = pd.DataFrame(columns = row_dict.keys())\n",
    "        \n",
    "        # append the dictionary to the created dataframe\n",
    "        tweets_detail_df = tweets_detail_df.append(row_dict, ignore_index= True )\n",
    "        \n",
    "    "
   ]
  },
  {
   "cell_type": "code",
   "execution_count": 4,
   "metadata": {
    "collapsed": false
   },
   "outputs": [
    {
     "data": {
      "text/html": [
       "<div>\n",
       "<table border=\"1\" class=\"dataframe\">\n",
       "  <thead>\n",
       "    <tr style=\"text-align: right;\">\n",
       "      <th></th>\n",
       "      <th>place</th>\n",
       "      <th>full_text</th>\n",
       "      <th>in_reply_to_user_id</th>\n",
       "      <th>favorite_count</th>\n",
       "      <th>source</th>\n",
       "      <th>retweeted</th>\n",
       "      <th>user</th>\n",
       "      <th>retweet_count</th>\n",
       "      <th>in_reply_to_screen_name</th>\n",
       "      <th>geo</th>\n",
       "      <th>...</th>\n",
       "      <th>possibly_sensitive</th>\n",
       "      <th>is_quote_status</th>\n",
       "      <th>created_at</th>\n",
       "      <th>coordinates</th>\n",
       "      <th>favorited</th>\n",
       "      <th>quoted_status_id</th>\n",
       "      <th>quoted_status_id_str</th>\n",
       "      <th>quoted_status_permalink</th>\n",
       "      <th>retweeted_status</th>\n",
       "      <th>quoted_status</th>\n",
       "    </tr>\n",
       "  </thead>\n",
       "  <tbody>\n",
       "    <tr>\n",
       "      <th>0</th>\n",
       "      <td>None</td>\n",
       "      <td>This is Phineas. He's a mystical boy. Only eve...</td>\n",
       "      <td>None</td>\n",
       "      <td>38404.0</td>\n",
       "      <td>&lt;a href=\"http://twitter.com/download/iphone\" r...</td>\n",
       "      <td>False</td>\n",
       "      <td>{'name': 'WeRateDogs™', 'profile_background_ti...</td>\n",
       "      <td>8435.0</td>\n",
       "      <td>None</td>\n",
       "      <td>None</td>\n",
       "      <td>...</td>\n",
       "      <td>False</td>\n",
       "      <td>False</td>\n",
       "      <td>Tue Aug 01 16:23:56 +0000 2017</td>\n",
       "      <td>None</td>\n",
       "      <td>False</td>\n",
       "      <td>NaN</td>\n",
       "      <td>NaN</td>\n",
       "      <td>NaN</td>\n",
       "      <td>NaN</td>\n",
       "      <td>NaN</td>\n",
       "    </tr>\n",
       "    <tr>\n",
       "      <th>1</th>\n",
       "      <td>None</td>\n",
       "      <td>This is Tilly. She's just checking pup on you....</td>\n",
       "      <td>None</td>\n",
       "      <td>32896.0</td>\n",
       "      <td>&lt;a href=\"http://twitter.com/download/iphone\" r...</td>\n",
       "      <td>False</td>\n",
       "      <td>{'name': 'WeRateDogs™', 'profile_background_ti...</td>\n",
       "      <td>6217.0</td>\n",
       "      <td>None</td>\n",
       "      <td>None</td>\n",
       "      <td>...</td>\n",
       "      <td>False</td>\n",
       "      <td>False</td>\n",
       "      <td>Tue Aug 01 00:17:27 +0000 2017</td>\n",
       "      <td>None</td>\n",
       "      <td>False</td>\n",
       "      <td>NaN</td>\n",
       "      <td>NaN</td>\n",
       "      <td>NaN</td>\n",
       "      <td>NaN</td>\n",
       "      <td>NaN</td>\n",
       "    </tr>\n",
       "    <tr>\n",
       "      <th>2</th>\n",
       "      <td>None</td>\n",
       "      <td>This is Archie. He is a rare Norwegian Pouncin...</td>\n",
       "      <td>None</td>\n",
       "      <td>24796.0</td>\n",
       "      <td>&lt;a href=\"http://twitter.com/download/iphone\" r...</td>\n",
       "      <td>False</td>\n",
       "      <td>{'name': 'WeRateDogs™', 'profile_background_ti...</td>\n",
       "      <td>4115.0</td>\n",
       "      <td>None</td>\n",
       "      <td>None</td>\n",
       "      <td>...</td>\n",
       "      <td>False</td>\n",
       "      <td>False</td>\n",
       "      <td>Mon Jul 31 00:18:03 +0000 2017</td>\n",
       "      <td>None</td>\n",
       "      <td>False</td>\n",
       "      <td>NaN</td>\n",
       "      <td>NaN</td>\n",
       "      <td>NaN</td>\n",
       "      <td>NaN</td>\n",
       "      <td>NaN</td>\n",
       "    </tr>\n",
       "    <tr>\n",
       "      <th>3</th>\n",
       "      <td>None</td>\n",
       "      <td>This is Darla. She commenced a snooze mid meal...</td>\n",
       "      <td>None</td>\n",
       "      <td>41739.0</td>\n",
       "      <td>&lt;a href=\"http://twitter.com/download/iphone\" r...</td>\n",
       "      <td>False</td>\n",
       "      <td>{'name': 'WeRateDogs™', 'profile_background_ti...</td>\n",
       "      <td>8563.0</td>\n",
       "      <td>None</td>\n",
       "      <td>None</td>\n",
       "      <td>...</td>\n",
       "      <td>False</td>\n",
       "      <td>False</td>\n",
       "      <td>Sun Jul 30 15:58:51 +0000 2017</td>\n",
       "      <td>None</td>\n",
       "      <td>False</td>\n",
       "      <td>NaN</td>\n",
       "      <td>NaN</td>\n",
       "      <td>NaN</td>\n",
       "      <td>NaN</td>\n",
       "      <td>NaN</td>\n",
       "    </tr>\n",
       "    <tr>\n",
       "      <th>4</th>\n",
       "      <td>None</td>\n",
       "      <td>This is Franklin. He would like you to stop ca...</td>\n",
       "      <td>None</td>\n",
       "      <td>39908.0</td>\n",
       "      <td>&lt;a href=\"http://twitter.com/download/iphone\" r...</td>\n",
       "      <td>False</td>\n",
       "      <td>{'name': 'WeRateDogs™', 'profile_background_ti...</td>\n",
       "      <td>9295.0</td>\n",
       "      <td>None</td>\n",
       "      <td>None</td>\n",
       "      <td>...</td>\n",
       "      <td>False</td>\n",
       "      <td>False</td>\n",
       "      <td>Sat Jul 29 16:00:24 +0000 2017</td>\n",
       "      <td>None</td>\n",
       "      <td>False</td>\n",
       "      <td>NaN</td>\n",
       "      <td>NaN</td>\n",
       "      <td>NaN</td>\n",
       "      <td>NaN</td>\n",
       "      <td>NaN</td>\n",
       "    </tr>\n",
       "  </tbody>\n",
       "</table>\n",
       "<p>5 rows × 32 columns</p>\n",
       "</div>"
      ],
      "text/plain": [
       "  place                                          full_text  \\\n",
       "0  None  This is Phineas. He's a mystical boy. Only eve...   \n",
       "1  None  This is Tilly. She's just checking pup on you....   \n",
       "2  None  This is Archie. He is a rare Norwegian Pouncin...   \n",
       "3  None  This is Darla. She commenced a snooze mid meal...   \n",
       "4  None  This is Franklin. He would like you to stop ca...   \n",
       "\n",
       "  in_reply_to_user_id  favorite_count  \\\n",
       "0                None         38404.0   \n",
       "1                None         32896.0   \n",
       "2                None         24796.0   \n",
       "3                None         41739.0   \n",
       "4                None         39908.0   \n",
       "\n",
       "                                              source retweeted  \\\n",
       "0  <a href=\"http://twitter.com/download/iphone\" r...     False   \n",
       "1  <a href=\"http://twitter.com/download/iphone\" r...     False   \n",
       "2  <a href=\"http://twitter.com/download/iphone\" r...     False   \n",
       "3  <a href=\"http://twitter.com/download/iphone\" r...     False   \n",
       "4  <a href=\"http://twitter.com/download/iphone\" r...     False   \n",
       "\n",
       "                                                user  retweet_count  \\\n",
       "0  {'name': 'WeRateDogs™', 'profile_background_ti...         8435.0   \n",
       "1  {'name': 'WeRateDogs™', 'profile_background_ti...         6217.0   \n",
       "2  {'name': 'WeRateDogs™', 'profile_background_ti...         4115.0   \n",
       "3  {'name': 'WeRateDogs™', 'profile_background_ti...         8563.0   \n",
       "4  {'name': 'WeRateDogs™', 'profile_background_ti...         9295.0   \n",
       "\n",
       "  in_reply_to_screen_name   geo      ...      possibly_sensitive  \\\n",
       "0                    None  None      ...                   False   \n",
       "1                    None  None      ...                   False   \n",
       "2                    None  None      ...                   False   \n",
       "3                    None  None      ...                   False   \n",
       "4                    None  None      ...                   False   \n",
       "\n",
       "  is_quote_status                      created_at coordinates favorited  \\\n",
       "0           False  Tue Aug 01 16:23:56 +0000 2017        None     False   \n",
       "1           False  Tue Aug 01 00:17:27 +0000 2017        None     False   \n",
       "2           False  Mon Jul 31 00:18:03 +0000 2017        None     False   \n",
       "3           False  Sun Jul 30 15:58:51 +0000 2017        None     False   \n",
       "4           False  Sat Jul 29 16:00:24 +0000 2017        None     False   \n",
       "\n",
       "  quoted_status_id quoted_status_id_str quoted_status_permalink  \\\n",
       "0              NaN                  NaN                     NaN   \n",
       "1              NaN                  NaN                     NaN   \n",
       "2              NaN                  NaN                     NaN   \n",
       "3              NaN                  NaN                     NaN   \n",
       "4              NaN                  NaN                     NaN   \n",
       "\n",
       "  retweeted_status quoted_status  \n",
       "0              NaN           NaN  \n",
       "1              NaN           NaN  \n",
       "2              NaN           NaN  \n",
       "3              NaN           NaN  \n",
       "4              NaN           NaN  \n",
       "\n",
       "[5 rows x 32 columns]"
      ]
     },
     "execution_count": 4,
     "metadata": {},
     "output_type": "execute_result"
    }
   ],
   "source": [
    "tweets_detail_df.head()"
   ]
  },
  {
   "cell_type": "code",
   "execution_count": null,
   "metadata": {
    "collapsed": true
   },
   "outputs": [],
   "source": []
  }
 ],
 "metadata": {
  "kernelspec": {
   "display_name": "Python 3",
   "language": "python",
   "name": "python3"
  },
  "language_info": {
   "codemirror_mode": {
    "name": "ipython",
    "version": 3
   },
   "file_extension": ".py",
   "mimetype": "text/x-python",
   "name": "python",
   "nbconvert_exporter": "python",
   "pygments_lexer": "ipython3",
   "version": "3.5.3"
  }
 },
 "nbformat": 4,
 "nbformat_minor": 2
}
