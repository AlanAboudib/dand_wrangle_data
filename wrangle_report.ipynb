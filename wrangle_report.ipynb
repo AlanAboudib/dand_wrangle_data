{
 "cells": [
  {
   "cell_type": "markdown",
   "metadata": {},
   "source": [
    "# Data Wrangling Project\n",
    "\n",
    "## Internal Report"
   ]
  },
  {
   "cell_type": "markdown",
   "metadata": {},
   "source": [
    "--------------------------"
   ]
  },
  {
   "cell_type": "markdown",
   "metadata": {},
   "source": [
    "## Abstract"
   ]
  },
  {
   "cell_type": "markdown",
   "metadata": {},
   "source": [
    "In this report I will present the main steps I have performed to wrangle the **WeRateDogs** dataset. This is meant to be an overview of the main cleaning and analysis issues I have treated. For technical details please refer to the `wrangle_act` jupyter notebook."
   ]
  },
  {
   "cell_type": "markdown",
   "metadata": {},
   "source": [
    "-----------------"
   ]
  },
  {
   "cell_type": "markdown",
   "metadata": {},
   "source": [
    "## Steps taken\n",
    "\n",
    "My treatment of this report consists of five main steps:\n",
    "\n",
    "1. Gathering data.\n",
    "\n",
    "2. Assessing the dataset.\n",
    "\n",
    "3. Cleaning the dataset.\n",
    "\n",
    "4. Providing some analysis and insights."
   ]
  },
  {
   "cell_type": "markdown",
   "metadata": {},
   "source": [
    "### Gathering data\n",
    "\n",
    "In the Gathering step, I performed the following:\n",
    "\n",
    "- Downloaded the 'twitter-archive-enhanced.csv' file using the link provided in the project page.\n",
    "\n",
    "- Downloaded the 'image_predictions.tsv' file programmatically using the **Requests** library in python.\n",
    "\n",
    "- Used Tweepy api to get supplimentary tweet information such as favorite count and retweet count.\n",
    "\n",
    "After this I used Pandas methods to import CSV, TSV and to parse Json and create the dataframe: `tweet_details_df`, `tweet_arch_df` and `image_pred_df`."
   ]
  },
  {
   "cell_type": "markdown",
   "metadata": {},
   "source": [
    "### Assessing data"
   ]
  },
  {
   "cell_type": "markdown",
   "metadata": {},
   "source": [
    "Here are the assessing issues I have selected for cleaning:\n",
    "\n",
    "\n",
    "#### Quality issues:\n",
    "\n",
    "1- **`tweet_details`** table: \n",
    "\n",
    "- The `favorite_count` column should have an integer datatype rather than an object datatype.\n",
    "- The `retweet_count` column should have an integer datatype rather than an object datatype.\n",
    "- The `created_at` column should be of date/time dataype rather than string.\n",
    "- The `quoted_status_id` column should be of string datatype rather than floating point.\n",
    "- Missing data (2220 values instead of 2356) in the `possibly_sensitive` and the `possibly_sensitive_appealable` columns and convert the column datatypes to categorical\n",
    "\n",
    "2- **`tweet_arch`** table:\n",
    "\n",
    "- The `tweet_id` column should be of a string datatype rather than integer.\n",
    "- The `timestamp` column should be of datatype datetime rather that a string.\n",
    "\n",
    "\n",
    "3- **`image_pred`** table: \n",
    "\n",
    "- The `p1` column has underscores between individual words, this should be replace by a space.\n",
    "- The `p2` column has underscores between individual words, this should be replace by a space.\n",
    "- The `p3` column has underscores between individual words, this should be replace by a space.\n",
    "- The `tweet_id` column should be of a string datatype rather than integer."
   ]
  },
  {
   "cell_type": "markdown",
   "metadata": {},
   "source": [
    "#### Tidiness issues\n",
    "\n",
    "- The columns `in_reply_to_user_id`, `source`, `in_reply_to_status_id` are redundant in the `tweet_arch` and the `tweet_details` tables.\n",
    "\n",
    "- The columns `doggy`, `floofer`, `puppy` and `puppo` in the `tweet_arch` table should be all melted into a `dog stage` column.\n",
    "\n",
    "- The column `source` in the `tweet_details` table has an untidy format. Hyperlinks are in HTML format with marker <a></a>. Instead the source column should directly include hyperlink strings."
   ]
  },
  {
   "cell_type": "markdown",
   "metadata": {},
   "source": [
    "I had to perform a second assessing iteration too. Here are the issues of the second iteration:\n",
    "\n",
    "#### Quality issues:\n",
    "\n",
    "\n",
    "- The `tweet_id` column in the `dog_stages` dataframe should be of a string datatype not an integer.\n",
    "\n",
    "#### Tidiness issues\n",
    "\n",
    "- The `tweet_details_clean` and the `tweet_arch_clean` dataframes can be merged into a single data frame"
   ]
  },
  {
   "cell_type": "markdown",
   "metadata": {},
   "source": [
    "All of these issues were resolved in the **Cleaning step**."
   ]
  },
  {
   "cell_type": "markdown",
   "metadata": {},
   "source": [
    "### Cleaning data"
   ]
  },
  {
   "cell_type": "markdown",
   "metadata": {},
   "source": [
    "In this step I handled each issue I designated in the assessment step. I started by resolving missing data issues, then tidiness issue and finally the remaining quality issues. This order was recommended by the lessons. Each cleaning operation consists of a **Define** step, a **Code** step and a **Test step**."
   ]
  },
  {
   "cell_type": "markdown",
   "metadata": {},
   "source": [
    "### Analysis and Insights"
   ]
  },
  {
   "cell_type": "markdown",
   "metadata": {},
   "source": [
    "In this section, I posed three questions and answered them using visualizations and some statistic methods. Here are the questions:\n",
    "\n",
    "- Q1: what is the distribution of rating numerators for those with a denominator of 10?\n",
    "\n",
    "- Q2: what are the highest rated dog stages?\n",
    "\n",
    "- Q3: what are the five dog types that are more frequently recongnized in the image prediction task?\n",
    "\n",
    "To check out my answers to these questions, please refer the the `wrangle_act` jupyter notebook or the `act_report` report."
   ]
  }
 ],
 "metadata": {
  "kernelspec": {
   "display_name": "Python 3",
   "language": "python",
   "name": "python3"
  },
  "language_info": {
   "codemirror_mode": {
    "name": "ipython",
    "version": 3
   },
   "file_extension": ".py",
   "mimetype": "text/x-python",
   "name": "python",
   "nbconvert_exporter": "python",
   "pygments_lexer": "ipython3",
   "version": "3.5.3"
  }
 },
 "nbformat": 4,
 "nbformat_minor": 2
}
